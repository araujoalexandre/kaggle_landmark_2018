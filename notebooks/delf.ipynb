{
 "cells": [
  {
   "cell_type": "code",
   "execution_count": 3,
   "metadata": {
    "scrolled": true
   },
   "outputs": [
    {
     "name": "stderr",
     "output_type": "stream",
     "text": [
      "/usr/local/lib/python3.5/dist-packages/h5py/__init__.py:36: FutureWarning: Conversion of the second argument of issubdtype from `float` to `np.floating` is deprecated. In future, it will be treated as `np.float64 == np.dtype(float).type`.\n",
      "  from ._conv import register_converters as _register_converters\n"
     ]
    }
   ],
   "source": [
    "import sys\n",
    "import glob\n",
    "from os.path import splitext, basename\n",
    "from datetime import datetime\n",
    "\n",
    "from delf import feature_io\n",
    "from scipy.spatial import cKDTree\n",
    "from skimage.measure import ransac\n",
    "\n",
    "sys.path.append('/home/alexandrearaujo/library/faiss/')\n",
    "import faiss\n",
    "\n",
    "import numpy as np"
   ]
  },
  {
   "cell_type": "code",
   "execution_count": null,
   "metadata": {},
   "outputs": [],
   "source": []
  },
  {
   "cell_type": "code",
   "execution_count": null,
   "metadata": {},
   "outputs": [],
   "source": [
    "_DISTANCE_THRESHOLD = 0.8"
   ]
  },
  {
   "cell_type": "code",
   "execution_count": 41,
   "metadata": {},
   "outputs": [],
   "source": [
    "query_files = glob.iglob('/media/hdd1/kaggle/landmark-retrieval-challenge/feature_test_256x256/*')\n",
    "index_files = glob.iglob('/media/hdd1/kaggle/landmark-retrieval-challenge/feature_index_256x256/*')"
   ]
  },
  {
   "cell_type": "code",
   "execution_count": 42,
   "metadata": {},
   "outputs": [],
   "source": [
    "results = {}\n",
    "total_dim = 0\n",
    "for i, path_query in enumerate(index_files):\n",
    "    filename_query = splitext(basename(path_query))[0]\n",
    "    if filename_query != '03215fbefac009f3': continue\n",
    "    try:\n",
    "        query_loc, _, query_desc, _, _ = feature_io.ReadFromFile(path_query)\n",
    "    except Exception as error:\n",
    "        print('problem with file {}. error : {}'.format(filename_query, error))\n",
    "    break"
   ]
  },
  {
   "cell_type": "code",
   "execution_count": null,
   "metadata": {
    "collapsed": true
   },
   "outputs": [
    {
     "name": "stdout",
     "output_type": "stream",
     "text": [
      "0\n",
      "1000\n",
      "10000\n",
      "100000\n",
      "f818bb32aad0a4a1\n",
      "5f3e7289c8d8bacb\n",
      "200000\n",
      "6f5819e00cdd1acb\n",
      "300000\n",
      "400000\n",
      "49a6372f1c83e0fb\n"
     ]
    }
   ],
   "source": [
    "results = {}\n",
    "min_dim = np.iinfo(np.int32).max\n",
    "for i, path_index in enumerate(index_files):\n",
    "    if i == 1000: print(i)\n",
    "    if i == 10000: print(i)\n",
    "    if i % 100000 == 0: print(i)\n",
    "    filename = splitext(basename(path_index))[0]\n",
    "    try:\n",
    "        index_loc, _, index_desc, _, _ = feature_io.ReadFromFile(path_index)\n",
    "    except:\n",
    "        print(filename)\n",
    "    min_dim = np.min([index_desc.shape[0], min_dim])\n",
    "print(min_dim)"
   ]
  },
  {
   "cell_type": "code",
   "execution_count": null,
   "metadata": {},
   "outputs": [],
   "source": [
    "def mmap_fvecs(fname):\n",
    "    x = np.memmap(fname, dtype='int32', mode='r')\n",
    "    d = x[0]\n",
    "    return x.view('float32').reshape(-1, d + 1)[:, 1:]\n",
    "\n",
    "def mmap_bvecs(fname):\n",
    "    x = np.memmap(fname, dtype='uint8', mode='r')\n",
    "    d = x[:4].view('int32')[0]\n",
    "    return x.reshape(-1, d + 4)[:, 4:]"
   ]
  },
  {
   "cell_type": "code",
   "execution_count": 21,
   "metadata": {},
   "outputs": [],
   "source": [
    "def read_memmap_file(path, dtype='float32'):\n",
    "    return np.memmap(path, dtype=dtype, mode='r')"
   ]
  },
  {
   "cell_type": "code",
   "execution_count": 35,
   "metadata": {},
   "outputs": [],
   "source": [
    "def pickle_load(path):\n",
    "    import pickle\n",
    "    \"\"\"function to load pickle object\"\"\"\n",
    "    with open(path, 'rb') as f:\n",
    "        return pickle.load(f, encoding='latin1')"
   ]
  },
  {
   "cell_type": "code",
   "execution_count": 22,
   "metadata": {},
   "outputs": [],
   "source": [
    "a = read_memmap_file('../data/xdatabase_mean_agg.bin')"
   ]
  },
  {
   "cell_type": "code",
   "execution_count": 45,
   "metadata": {},
   "outputs": [
    {
     "data": {
      "text/plain": [
       "memmap([-0.09381485, -0.28293085, -0.0871534 ,  0.24709901,  0.01396151,\n",
       "         0.18320307,  0.0084712 ,  0.02998371,  0.01800802, -0.01926095,\n",
       "         0.03163223, -0.08175791,  0.0300359 , -0.01396307, -0.00414801,\n",
       "         0.01534101,  0.00370465, -0.00786319, -0.05978213,  0.08471166,\n",
       "        -0.01892041,  0.01734073,  0.05149697, -0.04952597,  0.02972577,\n",
       "        -0.01915675,  0.01722981,  0.06007157,  0.02012954,  0.0056765 ,\n",
       "        -0.03618811, -0.01234898,  0.02470871, -0.03124979, -0.03923102,\n",
       "         0.00722395, -0.07422312,  0.02352059,  0.02981085, -0.04042541],\n",
       "       dtype=float32)"
      ]
     },
     "execution_count": 45,
     "metadata": {},
     "output_type": "execute_result"
    }
   ],
   "source": [
    "a[0]"
   ]
  },
  {
   "cell_type": "code",
   "execution_count": 28,
   "metadata": {
    "collapsed": true
   },
   "outputs": [
    {
     "data": {
      "text/plain": [
       "array([-0.11956213, -0.13958703,  0.1120486 , -0.02599497, -0.06480798,\n",
       "        0.00081129,  0.08376851,  0.03655818, -0.12371404, -0.0297387 ,\n",
       "        0.01222533,  0.04212876, -0.08973299,  0.02073307, -0.03001502,\n",
       "       -0.05496655, -0.0054426 ,  0.01806564,  0.06029709, -0.0409293 ,\n",
       "       -0.00667151, -0.00191101,  0.03286559, -0.01167688, -0.00056594,\n",
       "        0.02953819, -0.11802831, -0.03426814, -0.02435733, -0.00892419,\n",
       "       -0.00089785,  0.01862487, -0.0177884 , -0.01624243, -0.00896583,\n",
       "        0.02121899, -0.03586563,  0.02604675,  0.00092811,  0.00724195])"
      ]
     },
     "execution_count": 28,
     "metadata": {},
     "output_type": "execute_result"
    }
   ],
   "source": [
    "query_desc.mean(axis=0)"
   ]
  },
  {
   "cell_type": "code",
   "execution_count": 36,
   "metadata": {},
   "outputs": [
    {
     "data": {
      "text/plain": [
       "array(['03215fbefac009f3', 'f1b588f156e94454', '1458547c8874189b', ...,\n",
       "       '6297f36059d67883', 'bec0e4d68bfe491f', '3fd092bd56072896'],\n",
       "      dtype='<U16')"
      ]
     },
     "execution_count": 36,
     "metadata": {},
     "output_type": "execute_result"
    }
   ],
   "source": [
    "pickle_load('../data/filename_index.bin')"
   ]
  },
  {
   "cell_type": "code",
   "execution_count": 44,
   "metadata": {},
   "outputs": [
    {
     "data": {
      "text/plain": [
       "array([-0.09381485, -0.28293085, -0.0871534 ,  0.24709902,  0.01396151,\n",
       "        0.18320307,  0.0084712 ,  0.02998371,  0.01800802, -0.01926095,\n",
       "        0.03163223, -0.08175791,  0.0300359 , -0.01396307, -0.00414801,\n",
       "        0.01534101,  0.00370465, -0.00786319, -0.05978213,  0.08471166,\n",
       "       -0.01892041,  0.01734073,  0.05149697, -0.04952597,  0.02972577,\n",
       "       -0.01915675,  0.01722981,  0.06007157,  0.02012954,  0.0056765 ,\n",
       "       -0.03618812, -0.01234898,  0.02470871, -0.03124979, -0.03923102,\n",
       "        0.00722395, -0.07422311,  0.02352059,  0.02981085, -0.04042541])"
      ]
     },
     "execution_count": 44,
     "metadata": {},
     "output_type": "execute_result"
    }
   ],
   "source": [
    "query_desc.mean(axis=0)"
   ]
  },
  {
   "cell_type": "code",
   "execution_count": null,
   "metadata": {},
   "outputs": [],
   "source": []
  },
  {
   "cell_type": "code",
   "execution_count": null,
   "metadata": {},
   "outputs": [],
   "source": [
    "# In Python, a product quantizer is defined by:\n",
    "\n",
    "d = \n",
    "m = 5                                    # number of subquantizers\n",
    "n_bits = 10                              # bits allocated per subquantizer\n",
    "pq = faiss.IndexPQ (d, m, n_bits)        # Create the index\n",
    "pq.train (x_train)                       # Training\n",
    "pq.add (x_base)                          # Populate the index\n",
    "D, I = pq.search (x_query, k)            # Perform a search\n",
    "\n",
    "# The number of bits n_bits must be equal to 8, 12 or 16. The dimension d should be a multiple of m"
   ]
  },
  {
   "cell_type": "code",
   "execution_count": null,
   "metadata": {},
   "outputs": [],
   "source": []
  },
  {
   "cell_type": "code",
   "execution_count": null,
   "metadata": {},
   "outputs": [],
   "source": []
  },
  {
   "cell_type": "code",
   "execution_count": null,
   "metadata": {},
   "outputs": [],
   "source": []
  },
  {
   "cell_type": "code",
   "execution_count": null,
   "metadata": {},
   "outputs": [],
   "source": []
  }
 ],
 "metadata": {
  "kernelspec": {
   "display_name": "Python 3",
   "language": "python",
   "name": "python3"
  },
  "language_info": {
   "codemirror_mode": {
    "name": "ipython",
    "version": 3
   },
   "file_extension": ".py",
   "mimetype": "text/x-python",
   "name": "python",
   "nbconvert_exporter": "python",
   "pygments_lexer": "ipython3",
   "version": "3.5.2"
  },
  "varInspector": {
   "cols": {
    "lenName": 16,
    "lenType": 16,
    "lenVar": 40
   },
   "kernels_config": {
    "python": {
     "delete_cmd_postfix": "",
     "delete_cmd_prefix": "del ",
     "library": "var_list.py",
     "varRefreshCmd": "print(var_dic_list())"
    },
    "r": {
     "delete_cmd_postfix": ") ",
     "delete_cmd_prefix": "rm(",
     "library": "var_list.r",
     "varRefreshCmd": "cat(var_dic_list()) "
    }
   },
   "types_to_exclude": [
    "module",
    "function",
    "builtin_function_or_method",
    "instance",
    "_Feature"
   ],
   "window_display": false
  }
 },
 "nbformat": 4,
 "nbformat_minor": 2
}
