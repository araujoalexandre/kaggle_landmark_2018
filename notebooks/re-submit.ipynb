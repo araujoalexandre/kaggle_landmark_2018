{
 "cells": [
  {
   "cell_type": "code",
   "execution_count": 66,
   "metadata": {},
   "outputs": [],
   "source": [
    "import pandas as pd\n",
    "import numpy as np\n",
    "\n",
    "from datetime import datetime"
   ]
  },
  {
   "cell_type": "code",
   "execution_count": 67,
   "metadata": {},
   "outputs": [],
   "source": [
    "df1 = pd.read_csv('submit_2018-05-04_07.01.39_rerank.csv.gz')\n",
    "df2 = pd.read_csv('dir_descriptor_l2_QE=2_merge_sorted_mix.csv')"
   ]
  },
  {
   "cell_type": "code",
   "execution_count": 68,
   "metadata": {},
   "outputs": [],
   "source": [
    "df2['images_backup'] = df1['images'].values"
   ]
  },
  {
   "cell_type": "code",
   "execution_count": 69,
   "metadata": {},
   "outputs": [],
   "source": [
    "deleted = pd.read_csv('deleted_or_offline_index_image_keys.txt', header=None)\n",
    "deleted = set(deleted[0].values)"
   ]
  },
  {
   "cell_type": "code",
   "execution_count": 70,
   "metadata": {},
   "outputs": [],
   "source": [
    "def process(args):\n",
    "    images, images_backup = args['images'], args['images_backup']\n",
    "    if not isinstance(images, str):\n",
    "        return images_backup\n",
    "    if not isinstance(images_backup, str):\n",
    "        return images\n",
    "    images = images.split(' ')\n",
    "    images_backup = images_backup.split(' ')\n",
    "    k = 0\n",
    "    for i in range(len(images)):\n",
    "        if images[i] in deleted:\n",
    "            while True:\n",
    "                if images_backup[k] not in deleted and images_backup[k] not in images:\n",
    "                    break\n",
    "                k += 1\n",
    "            images[i] = images_backup[k]\n",
    "    return ' '.join(images)\n",
    "\n",
    "df2['images2'] = df2[['images', 'images_backup']].apply(process, axis=1)"
   ]
  },
  {
   "cell_type": "code",
   "execution_count": 71,
   "metadata": {},
   "outputs": [],
   "source": [
    "df2.drop(['images', 'images_backup'], 1, inplace=True)\n",
    "df2.rename(columns={'images2': 'images'}, inplace=True)\n",
    "\n",
    "submit_filename = 'submit_{}_reprocessed.csv.gz'.format(datetime.now().strftime('%Y-%m-%d_%H.%M.%S'))\n",
    "df2.to_csv(submit_filename, index=False, compression='gzip')"
   ]
  },
  {
   "cell_type": "code",
   "execution_count": null,
   "metadata": {},
   "outputs": [],
   "source": []
  },
  {
   "cell_type": "code",
   "execution_count": null,
   "metadata": {},
   "outputs": [],
   "source": []
  },
  {
   "cell_type": "code",
   "execution_count": null,
   "metadata": {},
   "outputs": [],
   "source": []
  },
  {
   "cell_type": "code",
   "execution_count": null,
   "metadata": {},
   "outputs": [],
   "source": []
  },
  {
   "cell_type": "code",
   "execution_count": null,
   "metadata": {},
   "outputs": [],
   "source": []
  }
 ],
 "metadata": {
  "kernelspec": {
   "display_name": "Python 3",
   "language": "python",
   "name": "python3"
  },
  "language_info": {
   "codemirror_mode": {
    "name": "ipython",
    "version": 3
   },
   "file_extension": ".py",
   "mimetype": "text/x-python",
   "name": "python",
   "nbconvert_exporter": "python",
   "pygments_lexer": "ipython3",
   "version": "3.5.2"
  }
 },
 "nbformat": 4,
 "nbformat_minor": 2
}
