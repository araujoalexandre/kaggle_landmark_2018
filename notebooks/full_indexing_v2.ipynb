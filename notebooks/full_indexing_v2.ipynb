{
 "cells": [
  {
   "cell_type": "code",
   "execution_count": 1,
   "metadata": {},
   "outputs": [
    {
     "name": "stderr",
     "output_type": "stream",
     "text": [
      "/usr/local/lib/python3.5/dist-packages/h5py/__init__.py:36: FutureWarning: Conversion of the second argument of issubdtype from `float` to `np.floating` is deprecated. In future, it will be treated as `np.float64 == np.dtype(float).type`.\n",
      "  from ._conv import register_converters as _register_converters\n"
     ]
    }
   ],
   "source": [
    "import sys\n",
    "import glob\n",
    "import pickle\n",
    "import hashlib\n",
    "import PIL\n",
    "from os.path import splitext, basename, join, isfile\n",
    "from collections import defaultdict, Counter\n",
    "from PIL import Image\n",
    "from io import BytesIO\n",
    "import pandas as pd\n",
    "import numpy as np\n",
    "\n",
    "from scipy.spatial import cKDTree\n",
    "from skimage.feature import plot_matches\n",
    "from skimage.measure import ransac\n",
    "from skimage.transform import AffineTransform\n",
    "\n",
    "from delf import feature_io\n",
    "\n",
    "%matplotlib inline\n",
    "import matplotlib.pyplot as plt\n",
    "import matplotlib.image as mpimg\n",
    "\n",
    "import pandas as pd"
   ]
  },
  {
   "cell_type": "code",
   "execution_count": null,
   "metadata": {},
   "outputs": [],
   "source": [
    "filenames_index_ix = pickle_load('../submit/2_full_indexing/filenames_index_ix.pkl')\n",
    "filenames_query_ix = pickle_load('../submit/2_full_indexing/filenames_query_ix.pkl')\n",
    "filenames_index = pickle_load('../submit/2_full_indexing/filenames_index.pkl')\n",
    "filenames_query = pickle_load('../submit/2_full_indexing/filenames_query.pkl')"
   ]
  },
  {
   "cell_type": "code",
   "execution_count": null,
   "metadata": {},
   "outputs": [],
   "source": [
    "location_index = []\n",
    "for _, nb in sorted(Counter(filenames_index_ix).items(), key=lambda x: x[0]):\n",
    "    location_index.extend(np.arange(nb))\n",
    "\n",
    "location_query = []\n",
    "for _, nb in sorted(Counter(filenames_query_ix).items(), key=lambda x: x[0]):\n",
    "    location_query.extend(np.arange(nb))"
   ]
  },
  {
   "cell_type": "code",
   "execution_count": null,
   "metadata": {},
   "outputs": [],
   "source": [
    "I_mapped = pickle_load('../submit/2_full_indexing/mapped_index_compress.pkl')\n",
    "I = pickle_load('../submit/2_full_indexing/index_compress.pkl')\n",
    "# D = pickle_load('../submit/2_full_indexing/distance_compress.pkl')"
   ]
  },
  {
   "cell_type": "code",
   "execution_count": null,
   "metadata": {},
   "outputs": [],
   "source": [
    "results = defaultdict(Counter)\n",
    "dump = False\n",
    "for i, ix in enumerate(filenames_query_ix):\n",
    "    if ix != 25672:\n",
    "        continue\n",
    "    results[ix] += Counter(I_mapped[i])\n",
    "\n",
    "# keys = sorted(list(results.keys()))\n",
    "# for i, query_ix in enumerate(keys):\n",
    "#     if query_ix > 0:\n",
    "#         break\n",
    "#     values = results[query_ix]\n",
    "#     if query_ix in values.keys():\n",
    "#         values.pop(query_ix)\n",
    "#     values = sorted(values.items(), key=lambda x: x[1], reverse=True)[:100]\n",
    "#     results[filenames_query[query_ix]] = ' '.join([filenames_index[ix] for ix, _ in values if ix != -1])\n",
    "#     results.pop(query_ix)"
   ]
  },
  {
   "cell_type": "code",
   "execution_count": null,
   "metadata": {},
   "outputs": [],
   "source": []
  },
  {
   "cell_type": "code",
   "execution_count": 88,
   "metadata": {},
   "outputs": [],
   "source": [
    "index = np.random.randint(0, 200, size=(115000, 100))"
   ]
  },
  {
   "cell_type": "code",
   "execution_count": 33,
   "metadata": {},
   "outputs": [],
   "source": [
    "filenames_index_ix = []\n",
    "for i in range(int(115000 / 10)):\n",
    "    filenames_index_ix.extend([i] * 10)"
   ]
  },
  {
   "cell_type": "code",
   "execution_count": 34,
   "metadata": {},
   "outputs": [],
   "source": [
    "mapped_index = np.empty_like(index)\n",
    "for i, j in np.ndindex(index.shape):\n",
    "    ix = index[i, j]\n",
    "    mapped_index[i, j] = filenames_index_ix[ix] if ix != -1 else -1"
   ]
  },
  {
   "cell_type": "code",
   "execution_count": 35,
   "metadata": {},
   "outputs": [
    {
     "data": {
      "text/plain": [
       "array([[ 8987, 10852,  2998, ...,  7651, 10262,  7033],\n",
       "       [10712, 11177,  1068, ...,  2798,  9407,  5366],\n",
       "       [10155,  8406,  8767, ...,  3989,  8435,  3225],\n",
       "       ...,\n",
       "       [10509,  9108,  6173, ...,  5975,  9870,  7928],\n",
       "       [ 4958,  5829,  9103, ..., 10513,  9828,   172],\n",
       "       [11041,  7172,  6277, ...,  1167,  1072,  6785]])"
      ]
     },
     "execution_count": 35,
     "metadata": {},
     "output_type": "execute_result"
    }
   ],
   "source": [
    "mapped_index"
   ]
  },
  {
   "cell_type": "code",
   "execution_count": 44,
   "metadata": {},
   "outputs": [],
   "source": [
    "subset = index[:100, :]"
   ]
  },
  {
   "cell_type": "code",
   "execution_count": 47,
   "metadata": {},
   "outputs": [
    {
     "data": {
      "text/plain": [
       "array([-1, -1, -1])"
      ]
     },
     "execution_count": 47,
     "metadata": {},
     "output_type": "execute_result"
    }
   ],
   "source": [
    "subset[mapped_index[:100, :] == 8987]"
   ]
  },
  {
   "cell_type": "code",
   "execution_count": 84,
   "metadata": {},
   "outputs": [
    {
     "name": "stdout",
     "output_type": "stream",
     "text": [
      "1.12 ms ± 2.89 µs per loop (mean ± std. dev. of 7 runs, 1000 loops each)\n"
     ]
    }
   ],
   "source": [
    "%%timeit\n",
    "value, count = np.unique(index[100:500], return_counts=True)\n",
    "counter = Counter(dict(zip(value, count)))"
   ]
  },
  {
   "cell_type": "code",
   "execution_count": 72,
   "metadata": {},
   "outputs": [
    {
     "name": "stdout",
     "output_type": "stream",
     "text": [
      "16.2 ms ± 26.3 µs per loop (mean ± std. dev. of 7 runs, 10 loops each)\n"
     ]
    }
   ],
   "source": [
    "%%timeit\n",
    "counter = Counter()\n",
    "for i in range(100, 500):\n",
    "    counter += Counter(index[i])"
   ]
  },
  {
   "cell_type": "code",
   "execution_count": 89,
   "metadata": {},
   "outputs": [],
   "source": [
    "counter1 = Counter()\n",
    "for i in range(100, 500):\n",
    "    counter1 += Counter(index[i])\n",
    "\n",
    "value, count = np.unique(index[100:500], return_counts=True)\n",
    "counter2 = Counter(dict(zip(value, count))).most_common(100)"
   ]
  },
  {
   "cell_type": "code",
   "execution_count": 86,
   "metadata": {
    "scrolled": true
   },
   "outputs": [
    {
     "data": {
      "text/plain": [
       "True"
      ]
     },
     "execution_count": 86,
     "metadata": {},
     "output_type": "execute_result"
    }
   ],
   "source": [
    "counter1 == counter2"
   ]
  },
  {
   "cell_type": "code",
   "execution_count": 90,
   "metadata": {
    "collapsed": true
   },
   "outputs": [
    {
     "data": {
      "text/plain": [
       "[(11, 242),\n",
       " (187, 234),\n",
       " (61, 231),\n",
       " (9, 224),\n",
       " (67, 224),\n",
       " (75, 224),\n",
       " (27, 223),\n",
       " (80, 223),\n",
       " (145, 223),\n",
       " (4, 221),\n",
       " (32, 221),\n",
       " (167, 221),\n",
       " (191, 221),\n",
       " (198, 221),\n",
       " (52, 220),\n",
       " (93, 219),\n",
       " (174, 219),\n",
       " (48, 218),\n",
       " (55, 218),\n",
       " (86, 218),\n",
       " (41, 217),\n",
       " (72, 217),\n",
       " (150, 217),\n",
       " (115, 216),\n",
       " (156, 216),\n",
       " (108, 215),\n",
       " (161, 214),\n",
       " (163, 214),\n",
       " (178, 214),\n",
       " (30, 213),\n",
       " (66, 213),\n",
       " (122, 213),\n",
       " (143, 213),\n",
       " (196, 213),\n",
       " (190, 212),\n",
       " (1, 211),\n",
       " (33, 211),\n",
       " (90, 211),\n",
       " (120, 211),\n",
       " (154, 211),\n",
       " (173, 211),\n",
       " (14, 210),\n",
       " (68, 210),\n",
       " (138, 210),\n",
       " (155, 210),\n",
       " (177, 210),\n",
       " (57, 209),\n",
       " (126, 209),\n",
       " (164, 209),\n",
       " (172, 209),\n",
       " (2, 208),\n",
       " (13, 208),\n",
       " (77, 208),\n",
       " (103, 208),\n",
       " (166, 208),\n",
       " (183, 208),\n",
       " (7, 207),\n",
       " (10, 207),\n",
       " (23, 207),\n",
       " (42, 207),\n",
       " (50, 207),\n",
       " (62, 207),\n",
       " (109, 207),\n",
       " (111, 207),\n",
       " (117, 207),\n",
       " (147, 207),\n",
       " (18, 206),\n",
       " (51, 206),\n",
       " (59, 206),\n",
       " (83, 206),\n",
       " (91, 206),\n",
       " (132, 206),\n",
       " (176, 205),\n",
       " (5, 204),\n",
       " (54, 204),\n",
       " (74, 204),\n",
       " (186, 204),\n",
       " (8, 203),\n",
       " (40, 203),\n",
       " (79, 203),\n",
       " (104, 203),\n",
       " (137, 203),\n",
       " (152, 203),\n",
       " (199, 203),\n",
       " (12, 202),\n",
       " (35, 202),\n",
       " (112, 202),\n",
       " (127, 202),\n",
       " (25, 201),\n",
       " (28, 201),\n",
       " (38, 201),\n",
       " (85, 201),\n",
       " (89, 201),\n",
       " (99, 201),\n",
       " (105, 201),\n",
       " (140, 201),\n",
       " (141, 201),\n",
       " (96, 200),\n",
       " (97, 200),\n",
       " (118, 200)]"
      ]
     },
     "execution_count": 90,
     "metadata": {},
     "output_type": "execute_result"
    }
   ],
   "source": [
    "counter2"
   ]
  },
  {
   "cell_type": "code",
   "execution_count": null,
   "metadata": {},
   "outputs": [],
   "source": []
  },
  {
   "cell_type": "code",
   "execution_count": null,
   "metadata": {},
   "outputs": [],
   "source": []
  }
 ],
 "metadata": {
  "kernelspec": {
   "display_name": "Python 3",
   "language": "python",
   "name": "python3"
  },
  "language_info": {
   "codemirror_mode": {
    "name": "ipython",
    "version": 3
   },
   "file_extension": ".py",
   "mimetype": "text/x-python",
   "name": "python",
   "nbconvert_exporter": "python",
   "pygments_lexer": "ipython3",
   "version": "3.5.2"
  }
 },
 "nbformat": 4,
 "nbformat_minor": 2
}
