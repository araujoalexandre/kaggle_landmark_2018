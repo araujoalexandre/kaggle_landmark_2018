{
 "cells": [
  {
   "cell_type": "code",
   "execution_count": null,
   "metadata": {},
   "outputs": [],
   "source": [
    "from threading import Thread, Lock, Condition\n",
    "import time\n",
    "import random"
   ]
  },
  {
   "cell_type": "code",
   "execution_count": null,
   "metadata": {},
   "outputs": [],
   "source": [
    "queue = []\n",
    "lock = Lock()\n",
    "\n",
    "MAX_NUM = 5\n",
    "condition = Condition()\n",
    "\n",
    "class ProducerThread(Thread):\n",
    "    \n",
    "    def _add_to_queue(self, x):\n",
    "        condition.acquire()\n",
    "        queue.append(x)\n",
    "        print(\"Produced\", x)\n",
    "        condition.notify()\n",
    "        condition.release()\n",
    "    \n",
    "    def run(self):\n",
    "        global queue\n",
    "        for x in range(10):\n",
    "            if len(queue) == MAX_NUM:\n",
    "                print(\"Queue full, producer is waiting\")\n",
    "                condition.wait()\n",
    "                print(\"Space in queue, Consumer notified the producer\")\n",
    "            self._add_to_queue(x)\n",
    "\n",
    "class ConsumerThread(Thread):\n",
    "    \n",
    "    def _process_data(self, data):\n",
    "        # processing data takes a long time\n",
    "        time.sleep(3)\n",
    "        return 'str_{}'.format(data)\n",
    "        \n",
    "    \n",
    "    def run(self):\n",
    "        global queue\n",
    "        \n",
    "        while True:\n",
    "            condition.acquire()\n",
    "            if not queue:\n",
    "                print(\"Nothing in queue, consumer is waiting\")\n",
    "                condition.wait()\n",
    "                print(\"Producer added something to queue and notified the consumer\")\n",
    "            result = self._process_data(queue.pop(0))\n",
    "            print(\"=> Consumed\", num)\n",
    "            condition.release()"
   ]
  },
  {
   "cell_type": "code",
   "execution_count": null,
   "metadata": {
    "scrolled": true
   },
   "outputs": [],
   "source": [
    "ProducerThread().start()\n",
    "ConsumerThread().start()"
   ]
  },
  {
   "cell_type": "code",
   "execution_count": null,
   "metadata": {},
   "outputs": [],
   "source": []
  },
  {
   "cell_type": "code",
   "execution_count": 8,
   "metadata": {},
   "outputs": [],
   "source": [
    "import time\n",
    "import random\n",
    "from multiprocessing import Queue\n",
    "from threading import Thread"
   ]
  },
  {
   "cell_type": "code",
   "execution_count": 103,
   "metadata": {},
   "outputs": [],
   "source": [
    "queue = Queue(5)\n",
    "\n",
    "class LoadThread(Thread):\n",
    "    \n",
    "    def __init__(self):\n",
    "        super(LoadThread, self).__init__()\n",
    "    \n",
    "    def run(self):\n",
    "        global queue\n",
    "        for x in range(10):\n",
    "            l = np.random.random(size=(100, 100))\n",
    "            queue.put((x, l))\n",
    "            l = None\n",
    "            print(\"Produced\", x)\n",
    "        queue.put((None, None))\n",
    "        return\n",
    "\n",
    "class ProcessThread(Thread):\n",
    "    \n",
    "    def __init__(self):\n",
    "        super(ProcessThread, self).__init__()\n",
    "    \n",
    "    def _process_data(self, data):\n",
    "        time.sleep(2)\n",
    "        return 'shape ({}, {})'.format(*data.shape)\n",
    "    \n",
    "    def run(self):\n",
    "        global queue\n",
    "        self.result = []\n",
    "        while True:\n",
    "            x, data = queue.get()\n",
    "            if x is None: break\n",
    "            self.result.append(self._process_data(data))\n",
    "            print(\"=> Consumed\", queue.\n",
    "        print('result', self.result)\n",
    "    \n",
    "    def join(self):\n",
    "        Thread.join(self)\n",
    "        return self.result"
   ]
  },
  {
   "cell_type": "code",
   "execution_count": 104,
   "metadata": {},
   "outputs": [
    {
     "name": "stdout",
     "output_type": "stream",
     "text": [
      "Produced 0\n",
      "Produced 1\n",
      "Produced 2\n",
      "Produced 3\n",
      "Produced 4\n",
      "Produced 5\n",
      "=> Consumed 5\n",
      "Produced 6\n",
      "=> Consumed 5\n",
      "Produced 7\n",
      "=> Consumed 5\n",
      "Produced 8\n",
      "=> Consumed 5\n",
      "Produced 9\n",
      "=> Consumed 5\n",
      "=> Consumed 5\n",
      "=> Consumed 4\n",
      "=> Consumed 3\n",
      "=> Consumed 2\n",
      "=> Consumed 1\n",
      "result ['shape (100, 100)', 'shape (100, 100)', 'shape (100, 100)', 'shape (100, 100)', 'shape (100, 100)', 'shape (100, 100)', 'shape (100, 100)', 'shape (100, 100)', 'shape (100, 100)', 'shape (100, 100)']\n"
     ]
    }
   ],
   "source": [
    "load = LoadThread()\n",
    "process = ProcessThread()\n",
    "\n",
    "load.start()\n",
    "process.start()\n",
    "\n",
    "res = process.join()"
   ]
  },
  {
   "cell_type": "code",
   "execution_count": 83,
   "metadata": {},
   "outputs": [],
   "source": [
    "def test():\n",
    "    time.sleep(3)"
   ]
  },
  {
   "cell_type": "code",
   "execution_count": 99,
   "metadata": {},
   "outputs": [],
   "source": [
    "from datetime import datetime\n",
    "\n",
    "class Timer:\n",
    "    \n",
    "    def __init__(self, msg):\n",
    "        self.msg = msg\n",
    "    \n",
    "    def __enter__(self):\n",
    "        self.start = datetime.now()\n",
    "        \n",
    "    def __exit__(self, *args):\n",
    "        elapsed = (datetime.now() - self.start).total_seconds()\n",
    "        print('{} on last batch took {:.3f}'.format(self.msg, elapsed))"
   ]
  },
  {
   "cell_type": "code",
   "execution_count": 100,
   "metadata": {},
   "outputs": [
    {
     "name": "stdout",
     "output_type": "stream",
     "text": [
      "vald conversion on last batch took 3.003\n"
     ]
    }
   ],
   "source": [
    "with Timer('vald conversion'):\n",
    "    test()"
   ]
  },
  {
   "cell_type": "code",
   "execution_count": null,
   "metadata": {},
   "outputs": [],
   "source": []
  }
 ],
 "metadata": {
  "kernelspec": {
   "display_name": "Python 3",
   "language": "python",
   "name": "python3"
  },
  "language_info": {
   "codemirror_mode": {
    "name": "ipython",
    "version": 3
   },
   "file_extension": ".py",
   "mimetype": "text/x-python",
   "name": "python",
   "nbconvert_exporter": "python",
   "pygments_lexer": "ipython3",
   "version": "3.5.2"
  }
 },
 "nbformat": 4,
 "nbformat_minor": 2
}
