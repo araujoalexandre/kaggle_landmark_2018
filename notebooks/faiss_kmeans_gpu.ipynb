{
 "cells": [
  {
   "cell_type": "code",
   "execution_count": null,
   "metadata": {},
   "outputs": [],
   "source": [
    "import sys\n",
    "import numpy as np\n",
    "\n",
    "sys.path.append('/home/alexandrearaujo/libraries/faiss/')\n",
    "import faiss"
   ]
  },
  {
   "cell_type": "code",
   "execution_count": null,
   "metadata": {},
   "outputs": [],
   "source": [
    "x = np.random.standard_normal (size=(100000, 40)).astype(np.float32)\n",
    "x = np.ascontiguousarray(x)"
   ]
  },
  {
   "cell_type": "code",
   "execution_count": null,
   "metadata": {},
   "outputs": [],
   "source": [
    "class Kmeans:\n",
    "\n",
    "    def __init__(self, d, k, niter=25, verbose=False, spherical = False):\n",
    "        self.d = d\n",
    "        self.k = k\n",
    "        self.cp = ClusteringParameters()\n",
    "        self.cp.niter = niter\n",
    "        self.cp.verbose = verbose\n",
    "        self.cp.spherical = spherical\n",
    "        self.centroids = None\n",
    "\n",
    "    def train(self, x):\n",
    "        assert x.flags.contiguous\n",
    "        n, d = x.shape\n",
    "        assert d == self.d\n",
    "        clus = Clustering(d, self.k, self.cp)\n",
    "        if self.cp.spherical:\n",
    "            self.index = IndexFlatIP(d)\n",
    "        else:\n",
    "            self.index = IndexFlatL2(d)\n",
    "        clus.train(x, self.index)\n",
    "        centroids = vector_float_to_array(clus.centroids)\n",
    "        self.centroids = centroids.reshape(self.k, d)\n",
    "        self.obj = vector_float_to_array(clus.obj)\n",
    "        return self.obj[-1]\n",
    "\n",
    "    def assign(self, x):\n",
    "        assert self.centroids is not None, \"should train before assigning\"\n",
    "        index = IndexFlatL2(self.d)\n",
    "        index.add(self.centroids)\n",
    "        D, I = index.search(x, 1)\n",
    "        return D.ravel(), I.ravel()"
   ]
  },
  {
   "cell_type": "code",
   "execution_count": null,
   "metadata": {},
   "outputs": [],
   "source": [
    "class Kmeans:\n",
    "    \n",
    "    def __init__(self, d, k, niter=25, verbose=False, max_points_per_centroid=None, spherical=False, gpu=False):\n",
    "        self.d = d\n",
    "        self.k = k\n",
    "        self.cp = faiss.ClusteringParameters()\n",
    "        self.cp.niter = niter\n",
    "        self.cp.verbose = verbose\n",
    "        self.cp.spherical = spherical\n",
    "        self.centroids = None\n",
    "        \n",
    "    def _train_without_gpu(self, x):\n",
    "        assert x.flags.contiguous\n",
    "        n, d = x.shape\n",
    "        assert d == self.d\n",
    "        clus = Clustering(d, self.k, self.cp)\n",
    "        if self.cp.spherical:\n",
    "            self.index = IndexFlatIP(d)\n",
    "        else:\n",
    "            self.index = IndexFlatL2(d)\n",
    "        clus.train(x, self.index)\n",
    "        centroids = vector_float_to_array(clus.centroids)\n",
    "        self.centroids = centroids.reshape(self.k, d)\n",
    "        self.obj = faiss.vector_float_to_array(clus.obj)\n",
    "        return self.obj[-1]\n",
    "        \n",
    "    def _train_with_gpu(self, x):\n",
    "        d = self.d\n",
    "        clus = faiss.Clustering(d, self.k)\n",
    "        clus.verbose = self.verbose\n",
    "        clus.niter = self.niter\n",
    "\n",
    "        # otherwise the kmeans implementation sub-samples the training set\n",
    "        if self.max_points_per_centroid is not None:\n",
    "            clus.max_points_per_centroid = self.max_points_per_centroid\n",
    "\n",
    "        res = faiss.StandardGpuResources()\n",
    "        cfg = faiss.GpuIndexFlatConfig()\n",
    "        cfg.useFloat16 = False\n",
    "        index = faiss.GpuIndexFlatL2(res, d, cfg)\n",
    "\n",
    "        # perform the training\n",
    "        clus.train(x, index)\n",
    "        centroids = faiss.vector_float_to_array(clus.centroids)\n",
    "\n",
    "        obj = faiss.vector_float_to_array(clus.obj)\n",
    "        return self.obj[-1]\n",
    "    \n",
    "    def train(self, x):\n",
    "        if self.gpu:\n",
    "            return self._train_with_gpu(x)\n",
    "        return self._train_without_gpu(x)\n",
    "    \n",
    "    def assign(self, x):\n",
    "        assert self.centroids is not None, \"should train before assigning\"\n",
    "        index = faiss.IndexFlatL2(self.d)\n",
    "        index.add(self.centroids)\n",
    "        D, I = index.search(x, 1)\n",
    "        return D.ravel(), I.ravel()"
   ]
  },
  {
   "cell_type": "code",
   "execution_count": null,
   "metadata": {},
   "outputs": [],
   "source": []
  },
  {
   "cell_type": "code",
   "execution_count": null,
   "metadata": {},
   "outputs": [],
   "source": []
  },
  {
   "cell_type": "code",
   "execution_count": null,
   "metadata": {},
   "outputs": [],
   "source": []
  },
  {
   "cell_type": "code",
   "execution_count": null,
   "metadata": {},
   "outputs": [],
   "source": []
  },
  {
   "cell_type": "code",
   "execution_count": null,
   "metadata": {},
   "outputs": [],
   "source": [
    "import sys\n",
    "import numpy as np\n",
    "\n",
    "sys.path.append('/home/alexandrearaujo/libraries/faiss/')\n",
    "import faiss"
   ]
  },
  {
   "cell_type": "code",
   "execution_count": null,
   "metadata": {},
   "outputs": [],
   "source": [
    "tmp = np.random.random(size=(500000, 1000)).astype(np.float32)\n",
    "tmp = np.ascontiguousarray(tmp)\n",
    "\n",
    "index_tmp = faiss.IndexFlatL2(1000)\n",
    "index_tmp.add(tmp)\n",
    "\n",
    "co = faiss.GpuClonerOptions()\n",
    "res = faiss.StandardGpuResources()\n",
    "\n",
    "a = faiss.index_cpu_to_gpu(res, 0, index_tmp, co)"
   ]
  },
  {
   "cell_type": "code",
   "execution_count": null,
   "metadata": {},
   "outputs": [],
   "source": []
  },
  {
   "cell_type": "code",
   "execution_count": null,
   "metadata": {},
   "outputs": [],
   "source": []
  },
  {
   "cell_type": "code",
   "execution_count": null,
   "metadata": {},
   "outputs": [],
   "source": []
  }
 ],
 "metadata": {
  "kernelspec": {
   "display_name": "Python 3",
   "language": "python",
   "name": "python3"
  },
  "language_info": {
   "codemirror_mode": {
    "name": "ipython",
    "version": 3
   },
   "file_extension": ".py",
   "mimetype": "text/x-python",
   "name": "python",
   "nbconvert_exporter": "python",
   "pygments_lexer": "ipython3",
   "version": "3.5.2"
  }
 },
 "nbformat": 4,
 "nbformat_minor": 2
}
